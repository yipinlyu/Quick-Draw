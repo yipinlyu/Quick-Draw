{
 "cells": [
  {
   "cell_type": "markdown",
   "metadata": {
    "_cell_guid": "79c7e3d0-c299-4dcb-8224-4455121ee9b0",
    "_uuid": "d629ff2d2480ee46fbb7e2d37f6b5fab8052498a",
    "colab_type": "text",
    "collapsed": true,
    "id": "xN9T4vBgSHq4"
   },
   "source": [
    "### This model combines two branches: MobileNet and GRU. \n",
    "\n",
    "The Mobilenet branch is inspired by Beluga's kernel. We used Mobilenet since it simply has the highest accuracy rate among all public single kernal CNN models like VGG or ResNet. And the combination of CNN and RNN is based on this paper  *SketchMate: Deep Hashing for Million-Scale Human Sketch Retrieval*(Peng, Yongye) http://homepages.inf.ed.ac.uk/thospeda/papers/xu2018sketchHash.pdf. \n"
   ]
  },
  {
   "cell_type": "markdown",
   "metadata": {},
   "source": [
    "### Import packages"
   ]
  },
  {
   "cell_type": "code",
   "execution_count": 0,
   "metadata": {
    "_kg_hide-input": true,
    "_uuid": "ce6d2aa7de1fa341144def7d3a5b1ffdea26bc91",
    "colab": {},
    "colab_type": "code",
    "id": "Rx0S1tm3SHq6",
    "outputId": "6ca6c088-7d5e-488d-b8af-faabffde5077"
   },
   "outputs": [
    {
     "name": "stderr",
     "output_type": "stream",
     "text": [
      "Using TensorFlow backend.\n"
     ]
    }
   ],
   "source": [
    "%matplotlib inline\n",
    "from IPython.core.interactiveshell import InteractiveShell\n",
    "InteractiveShell.ast_node_interactivity = \"all\"\n",
    "import os\n",
    "import ast\n",
    "import datetime as dt\n",
    "import matplotlib.pyplot as plt\n",
    "plt.rcParams['figure.figsize'] = [16, 10]\n",
    "plt.rcParams['font.size'] = 14\n",
    "import seaborn as sns\n",
    "import cv2\n",
    "import pandas as pd\n",
    "import numpy as np\n",
    "import tensorflow as tf\n",
    "import keras\n",
    "from keras.layers import Conv2D, MaxPooling2D, Input, concatenate\n",
    "from keras.layers import Dense, Dropout, Flatten, Activation,GlobalAveragePooling2D\n",
    "from keras.metrics import categorical_accuracy, top_k_categorical_accuracy, categorical_crossentropy\n",
    "from keras.models import Sequential, Model\n",
    "from keras.callbacks import EarlyStopping, ReduceLROnPlateau, ModelCheckpoint\n",
    "from keras.optimizers import Adam\n",
    "from keras.applications import MobileNet\n",
    "from keras.applications.mobilenet import preprocess_input\n",
    "from ast import literal_eval\n",
    "from keras.preprocessing.sequence import pad_sequences\n"
   ]
  },
  {
   "cell_type": "markdown",
   "metadata": {},
   "source": [
    "### Small functions"
   ]
  },
  {
   "cell_type": "code",
   "execution_count": 0,
   "metadata": {
    "_kg_hide-input": true,
    "_uuid": "978b1e827e598c53df3ef09838a6d85591d83052",
    "colab": {},
    "colab_type": "code",
    "collapsed": true,
    "id": "oiUcH6ipSHrB"
   },
   "outputs": [],
   "source": [
    "\n",
    "DP_DIR = '../input/shuffle-csvs/'\n",
    "INPUT_DIR = '../input/quickdraw-doodle-recognition/'\n",
    "BASE_SIZE = 256\n",
    "NCSVS = 10\n",
    "NCATS = 340\n",
    "np.random.seed(seed=1987)\n",
    "tf.set_random_seed(seed=1987)\n",
    "\n",
    "def f2cat(filename: str) -> str:\n",
    "    return filename.split('.')[0]\n",
    "\n",
    "def list_categories():\n",
    "    files = os.listdir(os.path.join(INPUT_DIR, 'train_simplified'))\n",
    "    return sorted([f2cat(f) for f in files], key=str.lower)"
   ]
  },
  {
   "cell_type": "code",
   "execution_count": 0,
   "metadata": {
    "_kg_hide-input": true,
    "_uuid": "b2fcd1a08ae1ae0619be38a113a244eb6515b63b",
    "colab": {},
    "colab_type": "code",
    "collapsed": true,
    "id": "fp_egFa_SHrF"
   },
   "outputs": [],
   "source": [
    "def apk(actual, predicted, k=3):\n",
    "    \"\"\"\n",
    "    Source: https://github.com/benhamner/Metrics/blob/master/Python/ml_metrics/average_precision.py\n",
    "    \"\"\"\n",
    "    if len(predicted) > k:\n",
    "        predicted = predicted[:k]\n",
    "    score = 0.0\n",
    "    num_hits = 0.0\n",
    "    for i, p in enumerate(predicted):\n",
    "        if p in actual and p not in predicted[:i]:\n",
    "            num_hits += 1.0\n",
    "            score += num_hits / (i + 1.0)\n",
    "    if not actual:\n",
    "        return 0.0\n",
    "    return score / min(len(actual), k)\n",
    "\n",
    "def mapk(actual, predicted, k=3):\n",
    "    \"\"\"\n",
    "    Source: https://github.com/benhamner/Metrics/blob/master/Python/ml_metrics/average_precision.py\n",
    "    \"\"\"\n",
    "    return np.mean([apk(a, p, k) for a, p in zip(actual, predicted)])\n",
    "\n",
    "def preds2catids(predictions):\n",
    "    return pd.DataFrame(np.argsort(-predictions, axis=1)[:, :3], columns=['a', 'b', 'c'])\n",
    "\n",
    "def top_3_accuracy(y_true, y_pred):\n",
    "    return top_k_categorical_accuracy(y_true, y_pred, k=3)"
   ]
  },
  {
   "cell_type": "markdown",
   "metadata": {
    "_uuid": "ab1834ea2757a53d602a3508efffcc34bc190dc7",
    "colab_type": "text",
    "id": "Qs_GeWskSHrw"
   },
   "source": [
    "### Data Generator"
   ]
  },
  {
   "cell_type": "code",
   "execution_count": 0,
   "metadata": {
    "_uuid": "f6455bf9555b8381b6a4292098a64a0eb7ff54dc",
    "colab": {},
    "colab_type": "code",
    "collapsed": true,
    "id": "xSapgaQQSHrz"
   },
   "outputs": [],
   "source": [
    "def draw_cv2(raw_strokes, size=256, lw=6, time_color=True):#read the raw strokes data and output the nmupy matrix of image. And different strokes in this image were assigned different colors. \n",
    "    img = np.zeros((BASE_SIZE, BASE_SIZE), np.uint8)\n",
    "    for t, stroke in enumerate(raw_strokes):\n",
    "        for i in range(len(stroke[0]) - 1):\n",
    "            color = 255 - min(t, 10) * 13 if time_color else 255\n",
    "            _ = cv2.line(img, (stroke[0][i], stroke[1][i]),\n",
    "                         (stroke[0][i + 1], stroke[1][i + 1]), color, lw)\n",
    "    if size != BASE_SIZE:\n",
    "        return cv2.resize(img, (size, size))\n",
    "    else:\n",
    "        return img\n",
    "\n",
    "def image_ge(size, batchsize, ks, lw=6, time_color=True):\n",
    "    while True:\n",
    "        for k in np.random.permutation(ks):\n",
    "            filename = os.path.join(DP_DIR, 'train_k{}.csv.gz'.format(k))\n",
    "            for df in pd.read_csv(filename, chunksize=batchsize):\n",
    "                df['drawing1'] = df['drawing'].apply(ast.literal_eval)\n",
    "                x = np.zeros((len(df), size, size, 1))\n",
    "                for i, raw_strokes in enumerate(df.drawing1.values):\n",
    "                    x[i, :, :, 0] = draw_cv2(raw_strokes, size=size, lw=lw,\n",
    "                                             time_color=time_color)\n",
    "                x = np.repeat(x, 3, axis =3)\n",
    "                x = preprocess_input(x).astype(np.float32)\n",
    "                \n",
    "                df['drawing'] = df['drawing'].map(_stack_it)\n",
    "                x2 = np.stack(df['drawing'], 0)\n",
    "                y = keras.utils.to_categorical(df.y, num_classes=NCATS)\n",
    "                yield [x, x2], y #Generate training data for two branchs.x is input for base model, x2 is input for GRU model\n",
    "\n",
    "def df_to_img(df, size, lw=6, time_color=True): # prepare the test data\n",
    "    df['drawing1'] = df['drawing'].apply(ast.literal_eval)\n",
    "    x = np.zeros((len(df), size, size, 1))\n",
    "    \n",
    "    for i, raw_strokes in enumerate(df.drawing1.values):\n",
    "        x[i, :, :, 0] = draw_cv2(raw_strokes, size=size, lw=lw, time_color=time_color)\n",
    "    x = np.repeat(x, 3, axis =3)\n",
    "    x = preprocess_input(x).astype(np.float32)\n",
    "    df['drawing'] = df['drawing'].map(_stack_it)\n",
    "    x2 = np.stack(df['drawing'], 0)\n",
    "    return [x,x2]"
   ]
  },
  {
   "cell_type": "markdown",
   "metadata": {
    "_uuid": "264156422a95e4b350886d558d516ae8bd2e25c0",
    "colab_type": "text",
    "id": "_m3T2MWuSHrK"
   },
   "source": [
    "## MobileNet branch\n",
    "\n",
    "MobileNets are based on a streamlined architecture that uses depthwise separable convolutions to build light weight deep neural networks.\n",
    "\n",
    "[MobileNets: Efficient Convolutional Neural Networks for Mobile Vision Applications](https://arxiv.org/pdf/1704.04861.pdf)"
   ]
  },
  {
   "cell_type": "code",
   "execution_count": 0,
   "metadata": {
    "_uuid": "54e5f0c637195b6624e2f3e6db5e7f8990e14eb7",
    "colab": {},
    "colab_type": "code",
    "collapsed": true,
    "id": "7S3uNfBwSHrN"
   },
   "outputs": [],
   "source": [
    "STEPS = 800 \n",
    "EPOCHS = 7 #Here we trained 7 epochs for our model.\n",
    "size = 128\n",
    "batchsize = 340"
   ]
  },
  {
   "cell_type": "code",
   "execution_count": 0,
   "metadata": {
    "_kg_hide-output": true,
    "_uuid": "0860ec35bee03f0c5cd21202dc7471c2d201cf5f",
    "colab": {},
    "colab_type": "code",
    "collapsed": true,
    "id": "Dg-gJxS2SHrR",
    "scrolled": false
   },
   "outputs": [],
   "source": [
    "#create the base model, where we used MobileNet only \n",
    "base_model = MobileNet(input_shape=(size, size,3), alpha=1., weights=\"imagenet\", include_top = False)\n",
    "inp = base_model.input\n",
    "x = base_model.output\n",
    "#x = GlobalAveragePooling2D()(x)\n",
    "#x = Dense(NCATS, activation='softmax')(x)\n",
    "model = Model(inp, x)\n"
   ]
  },
  {
   "cell_type": "code",
   "execution_count": 0,
   "metadata": {
    "_uuid": "4a1ca01f094af4f54353fe7b9230597650a32659",
    "colab": {},
    "colab_type": "code",
    "id": "Bxop9jRrSHrY",
    "outputId": "e0a911e7-96dc-425f-d8dd-72001602487d"
   },
   "outputs": [
    {
     "name": "stdout",
     "output_type": "stream",
     "text": [
      "_________________________________________________________________\n",
      "Layer (type)                 Output Shape              Param #   \n",
      "=================================================================\n",
      "conv1_pad (ZeroPadding2D)    (None, 129, 129, 3)       0         \n",
      "_________________________________________________________________\n",
      "conv1 (Conv2D)               (None, 64, 64, 32)        864       \n",
      "_________________________________________________________________\n",
      "conv1_bn (BatchNormalization (None, 64, 64, 32)        128       \n",
      "_________________________________________________________________\n",
      "conv1_relu (ReLU)            (None, 64, 64, 32)        0         \n",
      "_________________________________________________________________\n",
      "conv_dw_1 (DepthwiseConv2D)  (None, 64, 64, 32)        288       \n",
      "_________________________________________________________________\n",
      "conv_dw_1_bn (BatchNormaliza (None, 64, 64, 32)        128       \n",
      "_________________________________________________________________\n",
      "conv_dw_1_relu (ReLU)        (None, 64, 64, 32)        0         \n",
      "_________________________________________________________________\n",
      "conv_pw_1 (Conv2D)           (None, 64, 64, 64)        2048      \n",
      "_________________________________________________________________\n",
      "conv_pw_1_bn (BatchNormaliza (None, 64, 64, 64)        256       \n",
      "_________________________________________________________________\n",
      "conv_pw_1_relu (ReLU)        (None, 64, 64, 64)        0         \n",
      "_________________________________________________________________\n",
      "conv_pad_2 (ZeroPadding2D)   (None, 65, 65, 64)        0         \n",
      "_________________________________________________________________\n",
      "conv_dw_2 (DepthwiseConv2D)  (None, 32, 32, 64)        576       \n",
      "_________________________________________________________________\n",
      "conv_dw_2_bn (BatchNormaliza (None, 32, 32, 64)        256       \n",
      "_________________________________________________________________\n",
      "conv_dw_2_relu (ReLU)        (None, 32, 32, 64)        0         \n",
      "_________________________________________________________________\n",
      "conv_pw_2 (Conv2D)           (None, 32, 32, 128)       8192      \n",
      "_________________________________________________________________\n",
      "conv_pw_2_bn (BatchNormaliza (None, 32, 32, 128)       512       \n",
      "_________________________________________________________________\n",
      "conv_pw_2_relu (ReLU)        (None, 32, 32, 128)       0         \n",
      "_________________________________________________________________\n",
      "conv_dw_3 (DepthwiseConv2D)  (None, 32, 32, 128)       1152      \n",
      "_________________________________________________________________\n",
      "conv_dw_3_bn (BatchNormaliza (None, 32, 32, 128)       512       \n",
      "_________________________________________________________________\n",
      "conv_dw_3_relu (ReLU)        (None, 32, 32, 128)       0         \n",
      "_________________________________________________________________\n",
      "conv_pw_3 (Conv2D)           (None, 32, 32, 128)       16384     \n",
      "_________________________________________________________________\n",
      "conv_pw_3_bn (BatchNormaliza (None, 32, 32, 128)       512       \n",
      "_________________________________________________________________\n",
      "conv_pw_3_relu (ReLU)        (None, 32, 32, 128)       0         \n",
      "_________________________________________________________________\n",
      "conv_pad_4 (ZeroPadding2D)   (None, 33, 33, 128)       0         \n",
      "_________________________________________________________________\n",
      "conv_dw_4 (DepthwiseConv2D)  (None, 16, 16, 128)       1152      \n",
      "_________________________________________________________________\n",
      "conv_dw_4_bn (BatchNormaliza (None, 16, 16, 128)       512       \n",
      "_________________________________________________________________\n",
      "conv_dw_4_relu (ReLU)        (None, 16, 16, 128)       0         \n",
      "_________________________________________________________________\n",
      "conv_pw_4 (Conv2D)           (None, 16, 16, 256)       32768     \n",
      "_________________________________________________________________\n",
      "conv_pw_4_bn (BatchNormaliza (None, 16, 16, 256)       1024      \n",
      "_________________________________________________________________\n",
      "conv_pw_4_relu (ReLU)        (None, 16, 16, 256)       0         \n",
      "_________________________________________________________________\n",
      "conv_dw_5 (DepthwiseConv2D)  (None, 16, 16, 256)       2304      \n",
      "_________________________________________________________________\n",
      "conv_dw_5_bn (BatchNormaliza (None, 16, 16, 256)       1024      \n",
      "_________________________________________________________________\n",
      "conv_dw_5_relu (ReLU)        (None, 16, 16, 256)       0         \n",
      "_________________________________________________________________\n",
      "conv_pw_5 (Conv2D)           (None, 16, 16, 256)       65536     \n",
      "_________________________________________________________________\n",
      "conv_pw_5_bn (BatchNormaliza (None, 16, 16, 256)       1024      \n",
      "_________________________________________________________________\n",
      "conv_pw_5_relu (ReLU)        (None, 16, 16, 256)       0         \n",
      "_________________________________________________________________\n",
      "conv_pad_6 (ZeroPadding2D)   (None, 17, 17, 256)       0         \n",
      "_________________________________________________________________\n",
      "conv_dw_6 (DepthwiseConv2D)  (None, 8, 8, 256)         2304      \n",
      "_________________________________________________________________\n",
      "conv_dw_6_bn (BatchNormaliza (None, 8, 8, 256)         1024      \n",
      "_________________________________________________________________\n",
      "conv_dw_6_relu (ReLU)        (None, 8, 8, 256)         0         \n",
      "_________________________________________________________________\n",
      "conv_pw_6 (Conv2D)           (None, 8, 8, 512)         131072    \n",
      "_________________________________________________________________\n",
      "conv_pw_6_bn (BatchNormaliza (None, 8, 8, 512)         2048      \n",
      "_________________________________________________________________\n",
      "conv_pw_6_relu (ReLU)        (None, 8, 8, 512)         0         \n",
      "_________________________________________________________________\n",
      "conv_dw_7 (DepthwiseConv2D)  (None, 8, 8, 512)         4608      \n",
      "_________________________________________________________________\n",
      "conv_dw_7_bn (BatchNormaliza (None, 8, 8, 512)         2048      \n",
      "_________________________________________________________________\n",
      "conv_dw_7_relu (ReLU)        (None, 8, 8, 512)         0         \n",
      "_________________________________________________________________\n",
      "conv_pw_7 (Conv2D)           (None, 8, 8, 512)         262144    \n",
      "_________________________________________________________________\n",
      "conv_pw_7_bn (BatchNormaliza (None, 8, 8, 512)         2048      \n",
      "_________________________________________________________________\n",
      "conv_pw_7_relu (ReLU)        (None, 8, 8, 512)         0         \n",
      "_________________________________________________________________\n",
      "conv_dw_8 (DepthwiseConv2D)  (None, 8, 8, 512)         4608      \n",
      "_________________________________________________________________\n",
      "conv_dw_8_bn (BatchNormaliza (None, 8, 8, 512)         2048      \n",
      "_________________________________________________________________\n",
      "conv_dw_8_relu (ReLU)        (None, 8, 8, 512)         0         \n",
      "_________________________________________________________________\n",
      "conv_pw_8 (Conv2D)           (None, 8, 8, 512)         262144    \n",
      "_________________________________________________________________\n",
      "conv_pw_8_bn (BatchNormaliza (None, 8, 8, 512)         2048      \n",
      "_________________________________________________________________\n",
      "conv_pw_8_relu (ReLU)        (None, 8, 8, 512)         0         \n",
      "_________________________________________________________________\n",
      "conv_dw_9 (DepthwiseConv2D)  (None, 8, 8, 512)         4608      \n",
      "_________________________________________________________________\n",
      "conv_dw_9_bn (BatchNormaliza (None, 8, 8, 512)         2048      \n",
      "_________________________________________________________________\n",
      "conv_dw_9_relu (ReLU)        (None, 8, 8, 512)         0         \n",
      "_________________________________________________________________\n",
      "conv_pw_9 (Conv2D)           (None, 8, 8, 512)         262144    \n",
      "_________________________________________________________________\n",
      "conv_pw_9_bn (BatchNormaliza (None, 8, 8, 512)         2048      \n",
      "_________________________________________________________________\n",
      "conv_pw_9_relu (ReLU)        (None, 8, 8, 512)         0         \n",
      "_________________________________________________________________\n",
      "conv_dw_10 (DepthwiseConv2D) (None, 8, 8, 512)         4608      \n",
      "_________________________________________________________________\n",
      "conv_dw_10_bn (BatchNormaliz (None, 8, 8, 512)         2048      \n",
      "_________________________________________________________________\n",
      "conv_dw_10_relu (ReLU)       (None, 8, 8, 512)         0         \n",
      "_________________________________________________________________\n",
      "conv_pw_10 (Conv2D)          (None, 8, 8, 512)         262144    \n",
      "_________________________________________________________________\n",
      "conv_pw_10_bn (BatchNormaliz (None, 8, 8, 512)         2048      \n",
      "_________________________________________________________________\n",
      "conv_pw_10_relu (ReLU)       (None, 8, 8, 512)         0         \n",
      "_________________________________________________________________\n",
      "conv_dw_11 (DepthwiseConv2D) (None, 8, 8, 512)         4608      \n",
      "_________________________________________________________________\n",
      "conv_dw_11_bn (BatchNormaliz (None, 8, 8, 512)         2048      \n",
      "_________________________________________________________________\n",
      "conv_dw_11_relu (ReLU)       (None, 8, 8, 512)         0         \n",
      "_________________________________________________________________\n",
      "conv_pw_11 (Conv2D)          (None, 8, 8, 512)         262144    \n",
      "_________________________________________________________________\n",
      "conv_pw_11_bn (BatchNormaliz (None, 8, 8, 512)         2048      \n",
      "_________________________________________________________________\n",
      "conv_pw_11_relu (ReLU)       (None, 8, 8, 512)         0         \n",
      "_________________________________________________________________\n",
      "conv_pad_12 (ZeroPadding2D)  (None, 9, 9, 512)         0         \n",
      "_________________________________________________________________\n",
      "conv_dw_12 (DepthwiseConv2D) (None, 4, 4, 512)         4608      \n",
      "_________________________________________________________________\n",
      "conv_dw_12_bn (BatchNormaliz (None, 4, 4, 512)         2048      \n",
      "_________________________________________________________________\n",
      "conv_dw_12_relu (ReLU)       (None, 4, 4, 512)         0         \n",
      "_________________________________________________________________\n",
      "conv_pw_12 (Conv2D)          (None, 4, 4, 1024)        524288    \n",
      "_________________________________________________________________\n",
      "conv_pw_12_bn (BatchNormaliz (None, 4, 4, 1024)        4096      \n",
      "_________________________________________________________________\n",
      "conv_pw_12_relu (ReLU)       (None, 4, 4, 1024)        0         \n",
      "_________________________________________________________________\n",
      "conv_dw_13 (DepthwiseConv2D) (None, 4, 4, 1024)        9216      \n",
      "_________________________________________________________________\n",
      "conv_dw_13_bn (BatchNormaliz (None, 4, 4, 1024)        4096      \n",
      "_________________________________________________________________\n",
      "conv_dw_13_relu (ReLU)       (None, 4, 4, 1024)        0         \n",
      "_________________________________________________________________\n",
      "conv_pw_13 (Conv2D)          (None, 4, 4, 1024)        1048576   \n",
      "_________________________________________________________________\n",
      "conv_pw_13_bn (BatchNormaliz (None, 4, 4, 1024)        4096      \n",
      "_________________________________________________________________\n",
      "conv_pw_13_relu (ReLU)       (None, 4, 4, 1024)        0         \n",
      "=================================================================\n",
      "Total params: 3,228,864\n",
      "Trainable params: 3,206,976\n",
      "Non-trainable params: 21,888\n",
      "_________________________________________________________________\n"
     ]
    }
   ],
   "source": [
    "base_model.summary() #show the layers, output size and number of params. "
   ]
  },
  {
   "cell_type": "markdown",
   "metadata": {
    "_uuid": "8e144d388a97750de433543a83fb68f4c088796b",
    "colab_type": "text",
    "id": "i2v0L6iXSHrc"
   },
   "source": [
    "## Gated recurrent unit (GRU) branch"
   ]
  },
  {
   "cell_type": "code",
   "execution_count": 0,
   "metadata": {
    "_uuid": "148069179f29a39a12ca306c67094a8bbe0eed45",
    "colab": {},
    "colab_type": "code",
    "id": "hjUEpDajSHrd",
    "outputId": "b6496b66-a6a6-4308-953e-44d90f43291c"
   },
   "outputs": [
    {
     "name": "stdout",
     "output_type": "stream",
     "text": [
      "_________________________________________________________________\n",
      "Layer (type)                 Output Shape              Param #   \n",
      "=================================================================\n",
      "batch_normalization_2 (Batch (None, 70, 3)             12        \n",
      "_________________________________________________________________\n",
      "conv1d_4 (Conv1D)            (None, 66, 256)           4096      \n",
      "_________________________________________________________________\n",
      "dropout_7 (Dropout)          (None, 66, 256)           0         \n",
      "_________________________________________________________________\n",
      "conv1d_5 (Conv1D)            (None, 62, 256)           327936    \n",
      "_________________________________________________________________\n",
      "dropout_8 (Dropout)          (None, 62, 256)           0         \n",
      "_________________________________________________________________\n",
      "conv1d_6 (Conv1D)            (None, 60, 256)           196864    \n",
      "_________________________________________________________________\n",
      "dropout_9 (Dropout)          (None, 60, 256)           0         \n",
      "_________________________________________________________________\n",
      "bidirectional_3 (Bidirection (None, 60, 256)           296448    \n",
      "_________________________________________________________________\n",
      "dropout_10 (Dropout)         (None, 60, 256)           0         \n",
      "_________________________________________________________________\n",
      "bidirectional_4 (Bidirection (None, 256)               296448    \n",
      "_________________________________________________________________\n",
      "dropout_11 (Dropout)         (None, 256)               0         \n",
      "_________________________________________________________________\n",
      "dense_6 (Dense)              (None, 512)               131584    \n",
      "=================================================================\n",
      "Total params: 1,253,388\n",
      "Trainable params: 1,253,382\n",
      "Non-trainable params: 6\n",
      "_________________________________________________________________\n"
     ]
    }
   ],
   "source": [
    "from keras.models import Sequential\n",
    "from keras.layers import BatchNormalization, Conv1D, Dense, Dropout, Bidirectional, GRU, CuDNNGRU# this one is about 3x faster on GPU instances\n",
    "inp = Input(shape = (70,3)) # size of input of RNN branch\n",
    "\n",
    "x = BatchNormalization()(inp)\n",
    "\n",
    "# # filter\n",
    "x = Conv1D(256, (5,), activation = \"relu\")(x)\n",
    "x = Dropout(0.2)(x)\n",
    "x = Conv1D(256, (5,), activation = 'relu')(x)\n",
    "x = Dropout(0.2)(x)\n",
    "x = Conv1D(256, (3,), activation = 'relu')(x)\n",
    "x = Dropout(0.2)(x)\n",
    "\n",
    "\n",
    "# The GRU architecture\n",
    "x = Bidirectional(CuDNNGRU(128, return_sequences=True,  input_shape = x.shape))(x)\n",
    "x = Dropout(0.2)(x)\n",
    "x = Bidirectional(CuDNNGRU(128, return_sequences= False))(x)\n",
    "x = Dropout(0.2)(x)\n",
    "\n",
    "x = Dense(512, activation = 'relu')(x)\n",
    "x = Dense(NCATS, activation='softmax')(x)\n",
    "GRU_model = Model(inp,x)\n",
    "GRU_model.compile(optimizer = 'adam', \n",
    "                          loss = 'categorical_crossentropy', \n",
    "                          metrics = ['categorical_accuracy', top_3_accuracy])\n",
    "GRU_model = Sequential(GRU_model.layers[:-1])\n",
    "GRU_model.summary()"
   ]
  },
  {
   "cell_type": "markdown",
   "metadata": {
    "_uuid": "f8ddb55d399de16aec5bc79dcb91bc27b37bff7d",
    "colab_type": "text",
    "id": "rHZwZgAnSHrj"
   },
   "source": [
    "### Combining two branches"
   ]
  },
  {
   "cell_type": "code",
   "execution_count": 0,
   "metadata": {
    "_uuid": "24c44b41b788f3bb8327a39ebfde39e35d795f3a",
    "colab": {},
    "colab_type": "code",
    "collapsed": true,
    "id": "d573s3LBSHrl"
   },
   "outputs": [],
   "source": [
    "inp = base_model.input\n",
    "y = base_model.output\n",
    "y = GlobalAveragePooling2D()(y)\n",
    "\n",
    "inp2 = Input(shape = (70, 3))\n",
    "z = stroke_read_model(inp2)\n",
    "x = concatenate([y, z])\n",
    "x = Dropout(0.3)(x)\n",
    "x = Dense(NCATS, activation='softmax')(x)\n",
    "model = Model([inp, inp2], x)#two inputs and one output\n",
    "\n",
    "model.compile(optimizer=Adam(lr=0.001), loss='categorical_crossentropy',\n",
    "              metrics=[categorical_crossentropy, categorical_accuracy, top_3_accuracy])"
   ]
  },
  {
   "cell_type": "markdown",
   "metadata": {
    "_uuid": "848b133842fabfff2b11c8232f1225d9cfb2ecda",
    "colab_type": "text",
    "id": "-I4mWWjRSHrq"
   },
   "source": [
    "### GRU Preprocessing"
   ]
  },
  {
   "cell_type": "code",
   "execution_count": 0,
   "metadata": {
    "_uuid": "b20ab727a1cbbda916e738390dd0e002ac02a753",
    "colab": {},
    "colab_type": "code",
    "collapsed": true,
    "id": "-NJ9dyJuSHrs"
   },
   "outputs": [],
   "source": [
    "def _stack_it(raw_strokes):\n",
    "    \"\"\"preprocess the string and make \n",
    "    a standard Nx3 stroke vector\"\"\"\n",
    "    stroke_vec = literal_eval(raw_strokes) # string->list\n",
    "    # unwrap the list\n",
    "    in_strokes = [(xi,yi,i)  \n",
    "     for i,(x,y) in enumerate(stroke_vec) \n",
    "     for xi,yi in zip(x,y)]\n",
    "    c_strokes = np.stack(in_strokes)\n",
    "    # replace stroke id with 1 for continue, 2 for new\n",
    "    c_strokes[:,2] = [1]+np.diff(c_strokes[:,2]).tolist()\n",
    "    c_strokes[:,2] += 1 # since 0 is no stroke\n",
    "    # pad the strokes with zeros\n",
    "    return pad_sequences(c_strokes.swapaxes(0, 1), \n",
    "                         maxlen=70, \n",
    "                         padding='post').swapaxes(0, 1)\n"
   ]
  },
  {
   "cell_type": "markdown",
   "metadata": {},
   "source": [
    "### Prepare train and validating data"
   ]
  },
  {
   "cell_type": "code",
   "execution_count": 0,
   "metadata": {
    "_uuid": "d80ad7f4d378ea7f30479221d604eeeed559cae4",
    "colab": {},
    "colab_type": "code",
    "collapsed": true,
    "id": "CjiPQgOpSHr4"
   },
   "outputs": [],
   "source": [
    "train_datagen = image_ge(size=size, batchsize=batchsize, ks=range(NCSVS - 1)) #generate train data\n",
    "val_datagen = image_ge(size=size, batchsize=batchsize, ks=range(NCSVS - 1, NCSVS))#generate validation/test data"
   ]
  },
  {
   "cell_type": "markdown",
   "metadata": {
    "_uuid": "6baaa370cd9762ed13dc3c89f387cb133eb85384",
    "colab_type": "text",
    "id": "hY7V234oSHr8"
   },
   "source": [
    "### First 7 epochs"
   ]
  },
  {
   "cell_type": "code",
   "execution_count": 0,
   "metadata": {
    "_uuid": "da72d70fc1781e80427d45a80c07b3571dda0b36",
    "colab": {},
    "colab_type": "code",
    "id": "stGh6ZnSSHsB",
    "outputId": "3eeb03ff-bf7f-4fbf-de03-978b96cf2f1b"
   },
   "outputs": [
    {
     "name": "stdout",
     "output_type": "stream",
     "text": [
      "Epoch 1/7\n",
      "800/800 [==============================] - 1089s 1s/step - loss: 1.7771 - categorical_crossentropy: 1.7771 - categorical_accuracy: 0.5782 - top_3_accuracy: 0.7678 - val_loss: 1.4684 - val_categorical_crossentropy: 1.4684 - val_categorical_accuracy: 0.6337 - val_top_3_accuracy: 0.8213\n",
      "Epoch 2/7\n",
      "800/800 [==============================] - 1068s 1s/step - loss: 1.2857 - categorical_crossentropy: 1.2857 - categorical_accuracy: 0.6769 - top_3_accuracy: 0.8537 - val_loss: 1.2299 - val_categorical_crossentropy: 1.2299 - val_categorical_accuracy: 0.6871 - val_top_3_accuracy: 0.8627\n",
      "Epoch 3/7\n",
      "800/800 [==============================] - 1070s 1s/step - loss: 1.1797 - categorical_crossentropy: 1.1797 - categorical_accuracy: 0.7017 - top_3_accuracy: 0.8690 - val_loss: 1.1716 - val_categorical_crossentropy: 1.1716 - val_categorical_accuracy: 0.7042 - val_top_3_accuracy: 0.8707\n",
      "Epoch 4/7\n",
      "800/800 [==============================] - 1067s 1s/step - loss: 1.1013 - categorical_crossentropy: 1.1013 - categorical_accuracy: 0.7188 - top_3_accuracy: 0.8806 - val_loss: 1.1419 - val_categorical_crossentropy: 1.1419 - val_categorical_accuracy: 0.7110 - val_top_3_accuracy: 0.8737\n",
      "Epoch 5/7\n",
      "800/800 [==============================] - 1064s 1s/step - loss: 1.0388 - categorical_crossentropy: 1.0388 - categorical_accuracy: 0.7324 - top_3_accuracy: 0.8893 - val_loss: 1.0852 - val_categorical_crossentropy: 1.0852 - val_categorical_accuracy: 0.7242 - val_top_3_accuracy: 0.8844\n",
      "Epoch 6/7\n",
      "800/800 [==============================] - 1063s 1s/step - loss: 1.0408 - categorical_crossentropy: 1.0408 - categorical_accuracy: 0.7354 - top_3_accuracy: 0.8894 - val_loss: 1.0580 - val_categorical_crossentropy: 1.0580 - val_categorical_accuracy: 0.7285 - val_top_3_accuracy: 0.8896\n",
      "Epoch 7/7\n",
      "800/800 [==============================] - 1064s 1s/step - loss: 0.9873 - categorical_crossentropy: 0.9873 - categorical_accuracy: 0.7452 - top_3_accuracy: 0.8964 - val_loss: 1.0665 - val_categorical_crossentropy: 1.0665 - val_categorical_accuracy: 0.7323 - val_top_3_accuracy: 0.8874\n"
     ]
    }
   ],
   "source": [
    "\n",
    "hists = []\n",
    "hist = model.fit_generator(\n",
    "    train_datagen, steps_per_epoch=STEPS, epochs=EPOCHS, verbose=1,\n",
    "    validation_data=val_datagen, validation_steps = 100\n",
    ")#training 7 epoch\n",
    "hists.append(hist)"
   ]
  },
  {
   "cell_type": "markdown",
   "metadata": {},
   "source": [
    "### Plot the accuracy and loss graphs"
   ]
  },
  {
   "cell_type": "code",
   "execution_count": 0,
   "metadata": {
    "_uuid": "05767778d356bc63b7cded355159fd4082eee1a5",
    "colab": {},
    "colab_type": "code",
    "id": "gl9INY7VSHsO",
    "outputId": "d73fa57d-2d21-4296-8166-1f663bfeed28"
   },
   "outputs": [
    {
     "data": {
      "image/png": "[encoded data removed]",
      "text/plain": [
       "<Figure size 1152x720 with 2 Axes>"
      ]
     },
     "metadata": {
      "needs_background": "light",
      "tags": []
     },
     "output_type": "display_data"
    }
   ],
   "source": [
    "hist_df = pd.concat([pd.DataFrame(hist.history) for hist in hists], sort=True)\n",
    "hist_df.index = np.arange(1, len(hist_df)+1)\n",
    "fig, axs = plt.subplots(nrows=2, sharex=True, figsize=(16, 10))\n",
    "axs[0].plot(hist_df.val_categorical_accuracy, lw=5, label='Validation Accuracy')\n",
    "axs[0].plot(hist_df.categorical_accuracy, lw=5, label='Training Accuracy')\n",
    "axs[0].set_ylabel('Accuracy')\n",
    "axs[0].set_xlabel('Epoch')\n",
    "axs[0].grid()\n",
    "axs[0].legend(loc=0)\n",
    "axs[1].plot(hist_df.val_categorical_crossentropy, lw=5, label='Validation MLogLoss')\n",
    "axs[1].plot(hist_df.categorical_crossentropy, lw=5, label='Training MLogLoss')\n",
    "axs[1].set_ylabel('MLogLoss')\n",
    "axs[1].set_xlabel('Epoch')\n",
    "axs[1].grid()\n",
    "axs[1].legend(loc=0)\n",
    "fig.savefig('hist.png', dpi=300)\n",
    "plt.show();#The top graph shows the Training accuracy and Validation accuracy. The bottom graph shows the training loss and validation loss."
   ]
  },
  {
   "cell_type": "markdown",
   "metadata": {},
   "source": [
    "### Testing"
   ]
  },
  {
   "cell_type": "code",
   "execution_count": 0,
   "metadata": {
    "_uuid": "8c1927f22d3c45cba0bdee7d6f4b6c858d82d614",
    "colab": {},
    "colab_type": "code",
    "id": "VDEKB502SHsa",
    "outputId": "f52e30ae-b145-41dd-f700-8d79fcf226c6"
   },
   "outputs": [
    {
     "name": "stdout",
     "output_type": "stream",
     "text": [
      "(3401, 128, 128, 3) (3401, 340)\n",
      "Validation array memory 0.62 GB\n",
      "3401/3401 [==============================] - 6s 2ms/step\n",
      "Map3: 0.800\n",
      "(3401, 128, 128, 3) (3401, 340)\n",
      "Validation array memory 0.62 GB\n",
      "3401/3401 [==============================] - 4s 1ms/step\n",
      "Map3: 0.801\n",
      "(3401, 128, 128, 3) (3401, 340)\n",
      "Validation array memory 0.62 GB\n",
      "3401/3401 [==============================] - 4s 1ms/step\n",
      "Map3: 0.808\n",
      "(3401, 128, 128, 3) (3401, 340)\n",
      "Validation array memory 0.62 GB\n",
      "3401/3401 [==============================] - 4s 1ms/step\n",
      "Map3: 0.797\n",
      "(3401, 128, 128, 3) (3401, 340)\n",
      "Validation array memory 0.62 GB\n",
      "3401/3401 [==============================] - 4s 1ms/step\n",
      "Map3: 0.805\n",
      "(3401, 128, 128, 3) (3401, 340)\n",
      "Validation array memory 0.62 GB\n",
      "3401/3401 [==============================] - 4s 1ms/step\n",
      "Map3: 0.800\n",
      "(3401, 128, 128, 3) (3401, 340)\n",
      "Validation array memory 0.62 GB\n",
      "3401/3401 [==============================] - 4s 1ms/step\n",
      "Map3: 0.795\n",
      "(3401, 128, 128, 3) (3401, 340)\n",
      "Validation array memory 0.62 GB\n",
      "3401/3401 [==============================] - 4s 1ms/step\n",
      "Map3: 0.809\n",
      "(3401, 128, 128, 3) (3401, 340)\n",
      "Validation array memory 0.62 GB\n",
      "3401/3401 [==============================] - 4s 1ms/step\n",
      "Map3: 0.802\n",
      "(3400, 128, 128, 3) (3400, 340)\n",
      "Validation array memory 0.62 GB\n",
      "3400/3400 [==============================] - 5s 1ms/step\n",
      "Map3: 0.801\n"
     ]
    }
   ],
   "source": [
    "df = pd.read_csv(os.path.join(DP_DIR, 'train_k{}.csv.gz'.format(NCSVS)), nrows=34000)# read 34000 rows of each shuffle data file we just created\n",
    "for i in range(10):#\n",
    "    valid_df = df.loc[i*3400:(i+1)*3400,:].copy()\n",
    "    x_valid, x2 = df_to_img(valid_df, size)\n",
    "    y_valid = keras.utils.to_categorical(valid_df.y, num_classes=NCATS)\n",
    "    print(x_valid.shape, y_valid.shape)\n",
    "    print('Validation array memory {:.2f} GB'.format(x_valid.nbytes / 1024.**3 ))\n",
    "    valid_predictions = model.predict([x_valid, x2], batch_size=128, verbose=1)\n",
    "    map3 = mapk(valid_df[['y']].values, preds2catids(valid_predictions).values)\n",
    "\n",
    "    print('Map3: {:.3f}'.format(map3))"
   ]
  },
  {
   "cell_type": "markdown",
   "metadata": {
    "_uuid": "be4577a9ba00611697eea8f241a42c504981e86f",
    "colab_type": "text",
    "id": "8fXJZ-6BSHsh"
   },
   "source": [
    "#### *Creating Submission for the kaggle competition(a classification of the strokes data in test_simplified.csv)"
   ]
  },
  {
   "cell_type": "code",
   "execution_count": 0,
   "metadata": {
    "_uuid": "a7d14348150baf753e90cf2719b9f31dd564f6a2",
    "colab": {},
    "colab_type": "code",
    "id": "gNR9bMoBSHsh",
    "outputId": "cf95e48d-e989-4cd3-a132-b31b00e25f91"
   },
   "outputs": [
    {
     "ename": "SyntaxError",
     "evalue": "can't assign to operator (<ipython-input-26-8932661ad6ed>, line 18)",
     "output_type": "error",
     "traceback": [
      "\u001b[0;36m  File \u001b[0;32m\"<ipython-input-26-8932661ad6ed>\"\u001b[0;36m, line \u001b[0;32m18\u001b[0m\n\u001b[0;31m    -submission = subtest[['key_id', 'word']]\u001b[0m\n\u001b[0m    ^\u001b[0m\n\u001b[0;31mSyntaxError\u001b[0m\u001b[0;31m:\u001b[0m can't assign to operator\n"
     ]
    }
   ],
   "source": [
    "test = pd.read_csv(os.path.join(INPUT_DIR, 'test_simplified.csv'))\n",
    "\n",
    "for i in range(10):\n",
    "    end = min((i+1)*11220, 112199)\n",
    "    subtest= test.iloc[i*11220:end].copy().reset_index(drop=True)\n",
    "    x_test = df_to_img(subtest, size)\n",
    "\n",
    "    test_predictions = model.predict(x_test, batch_size=128, verbose=1)\n",
    "\n",
    "    top3 = preds2catids(test_predictions)\n",
    "    cats = list_categories()\n",
    "    id2cat = {k: cat.replace(' ', '_') for k, cat in enumerate(cats)}\n",
    "    top3cats = top3.replace(id2cat)\n",
    "    subtest['word'] = top3cats['a'] + ' ' + top3cats['b'] + ' ' + top3cats['c']\n",
    "    subtest.head()\n",
    "    if i ==0:\n",
    "\n",
    "        submission = subtest[['key_id', 'word']]\n",
    "    else: \n",
    "        submission = submission.append(subtest[['key_id', 'word']], ignore_index=True)\n"
   ]
  },
  {
   "cell_type": "code",
   "execution_count": 0,
   "metadata": {
    "_uuid": "8c871bd076862273c49d1a7879eb34f8cdb6e156",
    "colab": {},
    "colab_type": "code",
    "collapsed": true,
    "id": "DAq-J4cPSHsq"
   },
   "outputs": [],
   "source": [
    "submission.to_csv('test.csv', index=False)\n",
    "submission.head()\n",
    "submission.shape"
   ]
  }
 ],
 "metadata": {
  "colab": {
   "name": "kernel (1).ipynb",
   "provenance": [],
   "version": "0.3.2"
  },
  "kernelspec": {
   "display_name": "Python 3",
   "language": "python",
   "name": "python3"
  },
  "language_info": {
   "codemirror_mode": {
    "name": "ipython",
    "version": 3
   },
   "file_extension": ".py",
   "mimetype": "text/x-python",
   "name": "python",
   "nbconvert_exporter": "python",
   "pygments_lexer": "ipython3",
   "version": "3.6.2"
  }
 },
 "nbformat": 4,
 "nbformat_minor": 1
}
