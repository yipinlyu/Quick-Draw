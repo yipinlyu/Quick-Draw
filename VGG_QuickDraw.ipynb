{
 "cells": [
  {
   "cell_type": "markdown",
   "metadata": {
    "_cell_guid": "79c7e3d0-c299-4dcb-8224-4455121ee9b0",
    "_uuid": "d629ff2d2480ee46fbb7e2d37f6b5fab8052498a",
    "collapsed": true
   },
   "source": [
    "# Vgg method\n",
    "\n"
   ]
  },
  {
   "cell_type": "markdown",
   "metadata": {
    "_uuid": "f7f2a9516140a84124bf7bbf538ee4c30860b778"
   },
   "source": [
    "## Setup\n",
    "Import the necessary libraries and a few helper functions."
   ]
  },
  {
   "cell_type": "code",
   "execution_count": 1,
   "metadata": {
    "_kg_hide-input": true,
    "_uuid": "ce6d2aa7de1fa341144def7d3a5b1ffdea26bc91",
    "collapsed": true
   },
   "outputs": [],
   "source": [
    "%matplotlib inline\n",
    "from IPython.core.interactiveshell import InteractiveShell\n",
    "InteractiveShell.ast_node_interactivity = \"all\"\n",
    "import os\n",
    "import json\n",
    "import datetime as dt\n",
    "import matplotlib.pyplot as plt\n",
    "plt.rcParams['figure.figsize'] = [16, 10]\n",
    "plt.rcParams['font.size'] = 14\n",
    "import seaborn as sns\n",
    "import cv2\n",
    "import pandas as pd\n",
    "import numpy as np\n",
    "import tensorflow as tf\n",
    "from tensorflow import keras\n",
    "from tensorflow.keras.layers import Conv2D, MaxPooling2D\n",
    "from tensorflow.keras.layers import Dense, Dropout, Flatten, Activation\n",
    "from tensorflow.keras.metrics import categorical_accuracy, top_k_categorical_accuracy, categorical_crossentropy\n",
    "from tensorflow.keras.models import Sequential, Model\n",
    "from tensorflow.keras.callbacks import EarlyStopping, ReduceLROnPlateau, ModelCheckpoint\n",
    "from tensorflow.keras.optimizers import Adam\n",
    "from tensorflow.keras.applications import MobileNet, VGG16\n",
    "from tensorflow.keras.applications.mobilenet import preprocess_input\n",
    "start = dt.datetime.now()"
   ]
  },
  {
   "cell_type": "markdown",
   "metadata": {},
   "source": [
    "### Small functions"
   ]
  },
  {
   "cell_type": "code",
   "execution_count": 2,
   "metadata": {
    "_uuid": "416dfe57be1e9f9ea6f2c67898238be91f9f2a61",
    "collapsed": true
   },
   "outputs": [],
   "source": [
    "def apk(actual, predicted, k=3):\n",
    "    \"\"\"\n",
    "    Source: https://github.com/benhamner/Metrics/blob/master/Python/ml_metrics/average_precision.py\n",
    "    \"\"\"\n",
    "    if len(predicted) > k:\n",
    "        predicted = predicted[:k]\n",
    "    score = 0.0\n",
    "    num_hits = 0.0\n",
    "    for i, p in enumerate(predicted):\n",
    "        if p in actual and p not in predicted[:i]:\n",
    "            num_hits += 1.0\n",
    "            score += num_hits / (i + 1.0)\n",
    "    if not actual:\n",
    "        return 0.0\n",
    "    return score / min(len(actual), k)\n",
    "\n",
    "def mapk(actual, predicted, k=3):\n",
    "    \"\"\"\n",
    "    Source: https://github.com/benhamner/Metrics/blob/master/Python/ml_metrics/average_precision.py\n",
    "    \"\"\"\n",
    "    return np.mean([apk(a, p, k) for a, p in zip(actual, predicted)])\n",
    "\n",
    "def preds2catids(predictions):\n",
    "    return pd.DataFrame(np.argsort(-predictions, axis=1)[:, :3], columns=['a', 'b', 'c'])\n",
    "\n",
    "def top_3_accuracy(y_true, y_pred):\n",
    "    return top_k_categorical_accuracy(y_true, y_pred, k=3)"
   ]
  },
  {
   "cell_type": "code",
   "execution_count": 3,
   "metadata": {
    "_kg_hide-input": true,
    "_uuid": "978b1e827e598c53df3ef09838a6d85591d83052",
    "collapsed": true
   },
   "outputs": [],
   "source": [
    "DP_DIR = '../input/shuffle-csvs/'\n",
    "INPUT_DIR = '../input/quickdraw-doodle-recognition/'\n",
    "\n",
    "BASE_SIZE = 256\n",
    "NCSVS = 100\n",
    "NCATS = 340\n",
    "np.random.seed(seed=1987)\n",
    "tf.set_random_seed(seed=1987)\n",
    "\n",
    "def f2cat(filename: str) -> str:\n",
    "    return filename.split('.')[0]\n",
    "\n",
    "def list_all_categories():\n",
    "    files = os.listdir(os.path.join(INPUT_DIR, 'train_simplified'))\n",
    "    return sorted([f2cat(f) for f in files], key=str.lower)"
   ]
  },
  {
   "cell_type": "markdown",
   "metadata": {
    "_uuid": "ab1834ea2757a53d602a3508efffcc34bc190dc7"
   },
   "source": [
    "## Training with Image Generator"
   ]
  },
  {
   "cell_type": "code",
   "execution_count": 7,
   "metadata": {
    "_uuid": "f6455bf9555b8381b6a4292098a64a0eb7ff54dc",
    "collapsed": true
   },
   "outputs": [],
   "source": [
    "def draw(raw_strokes, size=256, lw=6, time_color=True):\n",
    "    img = np.zeros((BASE_SIZE, BASE_SIZE), np.uint8)\n",
    "    for t, stroke in enumerate(raw_strokes):\n",
    "        for i in range(len(stroke[0]) - 1):\n",
    "            color = 255 - min(t, 10) * 13 if time_color else 255\n",
    "            _ = cv2.line(img, (stroke[0][i], stroke[1][i]),\n",
    "                         (stroke[0][i + 1], stroke[1][i + 1]), color, lw)\n",
    "    if size != BASE_SIZE:\n",
    "        return cv2.resize(img, (size, size))\n",
    "    else:\n",
    "        return img\n",
    "\n",
    "def image_gene(size, batchsize, ks, lw=6, time_color=True):\n",
    "    while True:\n",
    "        for k in np.random.permutation(ks):\n",
    "            filename = os.path.join(DP_DIR, 'train_k{}.csv.gz'.format(k))\n",
    "            for df in pd.read_csv(filename, chunksize=batchsize):\n",
    "                df['drawing'] = df['drawing'].apply(json.loads)\n",
    "                x = np.zeros((len(df), size, size, 1))\n",
    "                for i, raw_strokes in enumerate(df.drawing.values):\n",
    "                    x[i, :, :, 0] = draw(raw_strokes, size=size, lw=lw,\n",
    "                                             time_color=time_color)\n",
    "                x = preprocess_input(x).astype(np.float32)\n",
    "                y = keras.utils.to_categorical(df.y, num_classes=NCATS)\n",
    "                yield x, y\n",
    "\n",
    "def df_to_img(df, size, lw=6, time_color=True):\n",
    "    df['drawing'] = df['drawing'].apply(json.loads)\n",
    "    x = np.zeros((len(df), size, size, 1))\n",
    "    for i, raw_strokes in enumerate(df.drawing.values):\n",
    "        x[i, :, :, 0] = draw(raw_strokes, size=size, lw=lw, time_color=time_color)\n",
    "    x = preprocess_input(x).astype(np.float32)\n",
    "    return x"
   ]
  },
  {
   "cell_type": "markdown",
   "metadata": {
    "_uuid": "264156422a95e4b350886d558d516ae8bd2e25c0"
   },
   "source": [
    "### Building VGG model\n"
   ]
  },
  {
   "cell_type": "code",
   "execution_count": 5,
   "metadata": {
    "_uuid": "54e5f0c637195b6624e2f3e6db5e7f8990e14eb7",
    "collapsed": true
   },
   "outputs": [],
   "source": [
    "STEPS = 800\n",
    "#EPOCHS = 16\n",
    "size = 64\n",
    "batchsize = 680"
   ]
  },
  {
   "cell_type": "code",
   "execution_count": 6,
   "metadata": {
    "_uuid": "303f1679d51188fe8a0d161bf2663108a325c6ad"
   },
   "outputs": [
    {
     "name": "stdout",
     "output_type": "stream",
     "text": [
      "_________________________________________________________________\n",
      "Layer (type)                 Output Shape              Param #   \n",
      "=================================================================\n",
      "input_1 (InputLayer)         (None, 64, 64, 3)         0         \n",
      "_________________________________________________________________\n",
      "block1_conv1 (Conv2D)        (None, 64, 64, 64)        1792      \n",
      "_________________________________________________________________\n",
      "block1_conv2 (Conv2D)        (None, 64, 64, 64)        36928     \n",
      "_________________________________________________________________\n",
      "block1_pool (MaxPooling2D)   (None, 32, 32, 64)        0         \n",
      "_________________________________________________________________\n",
      "block2_conv1 (Conv2D)        (None, 32, 32, 128)       73856     \n",
      "_________________________________________________________________\n",
      "block2_conv2 (Conv2D)        (None, 32, 32, 128)       147584    \n",
      "_________________________________________________________________\n",
      "block2_pool (MaxPooling2D)   (None, 16, 16, 128)       0         \n",
      "_________________________________________________________________\n",
      "block3_conv1 (Conv2D)        (None, 16, 16, 256)       295168    \n",
      "_________________________________________________________________\n",
      "block3_conv2 (Conv2D)        (None, 16, 16, 256)       590080    \n",
      "_________________________________________________________________\n",
      "block3_conv3 (Conv2D)        (None, 16, 16, 256)       590080    \n",
      "_________________________________________________________________\n",
      "block3_pool (MaxPooling2D)   (None, 8, 8, 256)         0         \n",
      "_________________________________________________________________\n",
      "block4_conv1 (Conv2D)        (None, 8, 8, 512)         1180160   \n",
      "_________________________________________________________________\n",
      "block4_conv2 (Conv2D)        (None, 8, 8, 512)         2359808   \n",
      "_________________________________________________________________\n",
      "block4_conv3 (Conv2D)        (None, 8, 8, 512)         2359808   \n",
      "_________________________________________________________________\n",
      "block4_pool (MaxPooling2D)   (None, 4, 4, 512)         0         \n",
      "_________________________________________________________________\n",
      "block5_conv1 (Conv2D)        (None, 4, 4, 512)         2359808   \n",
      "_________________________________________________________________\n",
      "block5_conv2 (Conv2D)        (None, 4, 4, 512)         2359808   \n",
      "_________________________________________________________________\n",
      "block5_conv3 (Conv2D)        (None, 4, 4, 512)         2359808   \n",
      "_________________________________________________________________\n",
      "block5_pool (MaxPooling2D)   (None, 2, 2, 512)         0         \n",
      "_________________________________________________________________\n",
      "global_max_pooling2d (Global (None, 512)               0         \n",
      "_________________________________________________________________\n",
      "dense (Dense)                (None, 1024)              525312    \n",
      "_________________________________________________________________\n",
      "dropout (Dropout)            (None, 1024)              0         \n",
      "_________________________________________________________________\n",
      "dense_1 (Dense)              (None, 1024)              1049600   \n",
      "_________________________________________________________________\n",
      "dense_2 (Dense)              (None, 340)               348500    \n",
      "=================================================================\n",
      "Total params: 16,638,100\n",
      "Trainable params: 4,283,220\n",
      "Non-trainable params: 12,354,880\n",
      "_________________________________________________________________\n"
     ]
    }
   ],
   "source": [
    "vgg = VGG16( weights = \"../input/vgg16-weights/vgg16_weights_tf_dim_ordering_tf_kernels_notop.h5\",\n",
    "            include_top=False,  input_shape=(size, size, 3) ,\n",
    "            pooling='max', classes = NCATS)\n",
    "\n",
    "for layer in vgg.layers[:17]:#adjustment\n",
    "    layer.trainable = False\n",
    "\n",
    "x = vgg.output\n",
    "x = Dense(1024, activation=\"relu\")(x)\n",
    "x = Dropout(0.5)(x)\n",
    "x = Dense(1024, activation=\"relu\")(x)\n",
    "predictions = Dense(NCATS, activation=\"softmax\")(x)\n",
    "\n",
    "# creating the final model \n",
    "vgg_model = Model(inputs = vgg.input, outputs = predictions)\n",
    "\n",
    "vgg_model.summary()\n",
    "\n",
    "# variables will be used to train the model\n",
    "batch_size = 150\n",
    "epochs = 5\n"
   ]
  },
  {
   "cell_type": "markdown",
   "metadata": {},
   "source": [
    "### Data preparation"
   ]
  },
  {
   "cell_type": "code",
   "execution_count": 8,
   "metadata": {
    "_uuid": "98ff512e1a1b5e86e86d9eef4127525bedf3b9e1"
   },
   "outputs": [
    {
     "name": "stdout",
     "output_type": "stream",
     "text": [
      "(34000, 64, 64, 3) (34000, 340)\n",
      "Validation array memory 1.56 GB\n"
     ]
    }
   ],
   "source": [
    "from sklearn.model_selection import train_test_split\n",
    "df = pd.read_csv(os.path.join(DP_DIR, 'train_k{}.csv.gz'.format(NCSVS - 1)), nrows=34000)\n",
    "x = df_to_img(df, size)\n",
    "x = np.dstack([x] * 3)\n",
    "x = x.reshape (-1,size,size,3)\n",
    "y = keras.utils.to_categorical(df.y, num_classes=NCATS)\n",
    "print(x.shape, y.shape)\n",
    "print('Validation array memory {:.2f} GB'.format(x.nbytes / 1024.**3 ))"
   ]
  },
  {
   "cell_type": "code",
   "execution_count": 9,
   "metadata": {
    "_uuid": "d15d120c789f4f9d5feac26d38a81ad7c1a57b8b",
    "collapsed": true
   },
   "outputs": [],
   "source": [
    "X_train = x[0:30000,:]\n",
    "X_test = x[30000:,:]\n",
    "y_train = y[0:30000,:]\n",
    "y_test = y[30000:,:]"
   ]
  },
  {
   "cell_type": "markdown",
   "metadata": {},
   "source": [
    "### Model training"
   ]
  },
  {
   "cell_type": "code",
   "execution_count": 10,
   "metadata": {
    "_uuid": "be5670c068c5267111796f97a7d8ba01e4fe21a7"
   },
   "outputs": [
    {
     "name": "stdout",
     "output_type": "stream",
     "text": [
      "Train on 30000 samples, validate on 4000 samples\n",
      "Epoch 1/50\n",
      "30000/30000 [==============================] - 35s 1ms/step - loss: 4.5086 - categorical_crossentropy: 4.5086 - categorical_accuracy: 0.1058 - top_3_accuracy: 0.2132 - val_loss: 3.5222 - val_categorical_crossentropy: 3.5222 - val_categorical_accuracy: 0.2203 - val_top_3_accuracy: 0.3965\n",
      "Epoch 2/50\n",
      "30000/30000 [==============================] - 31s 1ms/step - loss: 3.2917 - categorical_crossentropy: 3.2917 - categorical_accuracy: 0.2561 - top_3_accuracy: 0.4443 - val_loss: 3.0986 - val_categorical_crossentropy: 3.0986 - val_categorical_accuracy: 0.2957 - val_top_3_accuracy: 0.4977\n",
      "Epoch 3/50\n",
      "30000/30000 [==============================] - 31s 1ms/step - loss: 2.8583 - categorical_crossentropy: 2.8583 - categorical_accuracy: 0.3301 - top_3_accuracy: 0.5386 - val_loss: 2.9273 - val_categorical_crossentropy: 2.9273 - val_categorical_accuracy: 0.3373 - val_top_3_accuracy: 0.5375\n",
      "Epoch 4/50\n",
      "30000/30000 [==============================] - 31s 1ms/step - loss: 2.5897 - categorical_crossentropy: 2.5897 - categorical_accuracy: 0.3755 - top_3_accuracy: 0.5933 - val_loss: 2.8208 - val_categorical_crossentropy: 2.8208 - val_categorical_accuracy: 0.3565 - val_top_3_accuracy: 0.5568\n",
      "Epoch 5/50\n",
      "30000/30000 [==============================] - 31s 1ms/step - loss: 2.3696 - categorical_crossentropy: 2.3696 - categorical_accuracy: 0.4144 - top_3_accuracy: 0.6344 - val_loss: 2.7412 - val_categorical_crossentropy: 2.7412 - val_categorical_accuracy: 0.3715 - val_top_3_accuracy: 0.5843\n",
      "Epoch 6/50\n",
      "30000/30000 [==============================] - 31s 1ms/step - loss: 2.1704 - categorical_crossentropy: 2.1704 - categorical_accuracy: 0.4514 - top_3_accuracy: 0.6755 - val_loss: 2.7161 - val_categorical_crossentropy: 2.7161 - val_categorical_accuracy: 0.3773 - val_top_3_accuracy: 0.5945\n",
      "Epoch 7/50\n",
      "30000/30000 [==============================] - 31s 1ms/step - loss: 1.9902 - categorical_crossentropy: 1.9902 - categorical_accuracy: 0.4884 - top_3_accuracy: 0.7090 - val_loss: 2.7001 - val_categorical_crossentropy: 2.7001 - val_categorical_accuracy: 0.3890 - val_top_3_accuracy: 0.6000\n",
      "Epoch 8/50\n",
      "30000/30000 [==============================] - 31s 1ms/step - loss: 1.8503 - categorical_crossentropy: 1.8503 - categorical_accuracy: 0.5145 - top_3_accuracy: 0.7364 - val_loss: 2.7340 - val_categorical_crossentropy: 2.7340 - val_categorical_accuracy: 0.3943 - val_top_3_accuracy: 0.6020\n",
      "Epoch 9/50\n",
      "30000/30000 [==============================] - 31s 1ms/step - loss: 1.7075 - categorical_crossentropy: 1.7075 - categorical_accuracy: 0.5428 - top_3_accuracy: 0.7616 - val_loss: 2.7658 - val_categorical_crossentropy: 2.7658 - val_categorical_accuracy: 0.3888 - val_top_3_accuracy: 0.5995\n",
      "Epoch 10/50\n",
      "30000/30000 [==============================] - 31s 1ms/step - loss: 1.5708 - categorical_crossentropy: 1.5708 - categorical_accuracy: 0.5702 - top_3_accuracy: 0.7871 - val_loss: 2.7867 - val_categorical_crossentropy: 2.7867 - val_categorical_accuracy: 0.4037 - val_top_3_accuracy: 0.6050\n",
      "Epoch 11/50\n",
      "30000/30000 [==============================] - 31s 1ms/step - loss: 1.4552 - categorical_crossentropy: 1.4552 - categorical_accuracy: 0.5955 - top_3_accuracy: 0.8100 - val_loss: 2.8690 - val_categorical_crossentropy: 2.8690 - val_categorical_accuracy: 0.4078 - val_top_3_accuracy: 0.6025\n",
      "Epoch 12/50\n",
      "30000/30000 [==============================] - 31s 1ms/step - loss: 1.3198 - categorical_crossentropy: 1.3198 - categorical_accuracy: 0.6238 - top_3_accuracy: 0.8328 - val_loss: 2.9185 - val_categorical_crossentropy: 2.9185 - val_categorical_accuracy: 0.4002 - val_top_3_accuracy: 0.5990\n"
     ]
    }
   ],
   "source": [
    "# Training the model\n",
    "batch_size = 150\n",
    "epochs = 50\n",
    "callbacks = [\n",
    "    EarlyStopping(monitor= 'val_top_3_accuracy', patience=2),\n",
    "    ReduceLROnPlateau(monitor='val_top_3_accuracy', factor=0.75, patience=3, min_delta=0.001,\n",
    "                          mode='max', min_lr=1e-5, verbose=1),\n",
    "    ModelCheckpoint('model.h5', monitor='val_top_3_accuracy', mode='max', save_best_only=True,\n",
    "                    save_weights_only=True),\n",
    "]\n",
    "#model = create_model()\n",
    "hists = []\n",
    "vgg_model.compile(optimizer = 'adam', \n",
    "                          loss = 'categorical_crossentropy', \n",
    "                          metrics = [categorical_crossentropy,categorical_accuracy, top_3_accuracy])\n",
    "    \n",
    "    \n",
    "hist = vgg_model.fit(X_train, y_train,\n",
    "                    batch_size=batch_size,\n",
    "                    epochs=epochs,\n",
    "                    verbose=1,\n",
    "validation_data=(X_test, y_test),\n",
    "                    callbacks = callbacks)\n",
    "hists.append(hist)"
   ]
  },
  {
   "cell_type": "markdown",
   "metadata": {},
   "source": [
    "### Drawing loss and accuracy graphs"
   ]
  },
  {
   "cell_type": "code",
   "execution_count": 15,
   "metadata": {
    "_uuid": "05767778d356bc63b7cded355159fd4082eee1a5"
   },
   "outputs": [
    {
     "data": {
      "image/png": "[encoded data removed]",
      "text/plain": [
       "<Figure size 1152x720 with 2 Axes>"
      ]
     },
     "metadata": {
      "needs_background": "light"
     },
     "output_type": "display_data"
    }
   ],
   "source": [
    "hist_df = pd.concat([pd.DataFrame(hist.history) for hist in hists], sort=True)\n",
    "hist_df.index = np.arange(1, len(hist_df)+1)\n",
    "fig, axs = plt.subplots(nrows=2, sharex=True, figsize=(16, 10))\n",
    "axs[0].plot(hist_df.val_categorical_accuracy, lw=5, label='Validation Accuracy')\n",
    "axs[0].plot(hist_df.categorical_accuracy, lw=5, label='Training Accuracy')\n",
    "axs[0].set_ylabel('Accuracy')\n",
    "axs[0].set_xlabel('Epoch')\n",
    "axs[0].grid()\n",
    "axs[0].legend(loc=0)\n",
    "axs[1].plot(hist_df.val_categorical_crossentropy, lw=5, label='Validation MLogLoss')\n",
    "axs[1].plot(hist_df.categorical_crossentropy, lw=5, label='Training MLogLoss')\n",
    "axs[1].set_ylabel('MLogLoss')\n",
    "axs[1].set_xlabel('Epoch')\n",
    "axs[1].grid()\n",
    "axs[1].legend(loc=0)\n",
    "fig.savefig('hist.png', dpi=300)\n",
    "plt.show();"
   ]
  },
  {
   "cell_type": "markdown",
   "metadata": {},
   "source": [
    "### Tesing"
   ]
  },
  {
   "cell_type": "code",
   "execution_count": 16,
   "metadata": {
    "_uuid": "8c1927f22d3c45cba0bdee7d6f4b6c858d82d614"
   },
   "outputs": [
    {
     "name": "stdout",
     "output_type": "stream",
     "text": [
      "4000/4000 [==============================] - 3s 865us/step\n",
      "0.599\n"
     ]
    }
   ],
   "source": [
    "valid_predictions = vgg_model.predict(X_test, batch_size=150, verbose=1)\n",
    "actual = df['y'][30000:].values\n",
    "predicted = preds2catids(valid_predictions).values\n",
    "test_acc = 0\n",
    "for i in range(4000):\n",
    "    if actual[i] in predicted[i]:\n",
    "        test_acc += 1\n",
    "test_acc = test_acc/4000\n",
    "print(test_acc)"
   ]
  }
 ],
 "metadata": {
  "kernelspec": {
   "display_name": "Python 3",
   "language": "python",
   "name": "python3"
  },
  "language_info": {
   "codemirror_mode": {
    "name": "ipython",
    "version": 3
   },
   "file_extension": ".py",
   "mimetype": "text/x-python",
   "name": "python",
   "nbconvert_exporter": "python",
   "pygments_lexer": "ipython3",
   "version": "3.6.6"
  }
 },
 "nbformat": 4,
 "nbformat_minor": 1
}
